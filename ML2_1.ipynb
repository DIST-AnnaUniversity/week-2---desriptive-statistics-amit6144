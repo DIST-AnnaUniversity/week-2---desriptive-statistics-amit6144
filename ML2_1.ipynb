{
  "nbformat": 4,
  "nbformat_minor": 0,
  "metadata": {
    "colab": {
      "provenance": []
    },
    "kernelspec": {
      "name": "python3",
      "display_name": "Python 3"
    },
    "language_info": {
      "name": "python"
    }
  },
  "cells": [
    {
      "cell_type": "markdown",
      "source": [
        "1. The miles per gallon rating for \n",
        "30\n",
        " cars are shown below (lowest to highest).  \n",
        "19\n",
        ", \n",
        "19\n",
        ", \n",
        "19\n",
        ", \n",
        "20\n",
        ", \n",
        "21\n",
        ", \n",
        "21\n",
        ", \n",
        "25\n",
        ", \n",
        "25\n",
        ", \n",
        "25\n",
        ", \n",
        "26\n",
        ", \n",
        "26\n",
        ", \n",
        "28\n",
        ", \n",
        "29\n",
        ", \n",
        "31\n",
        ", \n",
        "31\n",
        ", \n",
        "32\n",
        ", \n",
        "32\n",
        ", \n",
        "33\n",
        ", \n",
        "34\n",
        ", \n",
        "35\n",
        ", \n",
        "36\n",
        ", \n",
        "37\n",
        ", \n",
        "37\n",
        ", \n",
        "38\n",
        ", \n",
        "38\n",
        ", \n",
        "38\n",
        ", \n",
        "38\n",
        ", \n",
        "41\n",
        ", \n",
        "43\n",
        ", \n",
        "43 <br>\n",
        "create a stem plot and identify any outliers"
      ],
      "metadata": {
        "id": "uV_QzQAMiDSy"
      }
    },
    {
      "cell_type": "code",
      "execution_count": null,
      "metadata": {
        "id": "7_ZBatvwh-Nb"
      },
      "outputs": [],
      "source": [
        "x = [19 , 19 , 19 , 20 , 21 , 21 , 25 , 25 , 25 , 26 , 26 , 28 , 29 , 31 , 31 , 32 , 32 , 33 , 34 , 35 , 36 , 37 , 37 , 38 , 38 , 38 , 38 , 41 , 43 , 43]"
      ]
    },
    {
      "cell_type": "code",
      "source": [
        "stemPlot = {}\n",
        "for i in range((min(x)//10),(max(x)//10)+1):\n",
        "  stemPlot[i] = []\n",
        "\n",
        "for i in x:\n",
        "  leaf = i%10\n",
        "  stem = i//10\n",
        "  stemPlot[stem].append(leaf)\n",
        "\n",
        "stemPlot"
      ],
      "metadata": {
        "colab": {
          "base_uri": "https://localhost:8080/"
        },
        "id": "YQ8J4uZvifQJ",
        "outputId": "e37cf39d-2f78-4bf8-cc50-6497473d9746"
      },
      "execution_count": null,
      "outputs": [
        {
          "output_type": "execute_result",
          "data": {
            "text/plain": [
              "{1: [9, 9, 9],\n",
              " 2: [0, 1, 1, 5, 5, 5, 6, 6, 8, 9],\n",
              " 3: [1, 1, 2, 2, 3, 4, 5, 6, 7, 7, 8, 8, 8, 8],\n",
              " 4: [1, 3, 3]}"
            ]
          },
          "metadata": {},
          "execution_count": 19
        }
      ]
    },
    {
      "cell_type": "markdown",
      "source": [
        "12. Student grades on a chemistry exam were: \n",
        "77\n",
        ", \n",
        "78\n",
        ", \n",
        "76\n",
        ", \n",
        "81\n",
        ", \n",
        "86\n",
        ", \n",
        "51\n",
        ", \n",
        "79\n",
        ", \n",
        "82\n",
        ", \n",
        "84\n",
        ", \n",
        "99<br>\n",
        "Construct a stem-and-leaf plot of the data.<br>\n",
        "Are there any potential outliers? If so, which scores are they? Why do you consider them outliers?"
      ],
      "metadata": {
        "id": "2LmDDhu1joX4"
      }
    },
    {
      "cell_type": "code",
      "source": [
        "x = [77 , 78 , 76 , 81 , 86 , 51 , 79 , 82 , 84 , 99]"
      ],
      "metadata": {
        "id": "2fIOpBNZjceh"
      },
      "execution_count": null,
      "outputs": []
    },
    {
      "cell_type": "code",
      "source": [
        "x.sort()\n",
        "stemPlot = {}\n",
        "for i in range((min(x)//10),(max(x)//10)+1):\n",
        "  stemPlot[i] = []\n",
        "for i in x:\n",
        "  leaf = i%10\n",
        "  stem = i//10\n",
        "  stemPlot[stem].append(leaf)\n",
        "stemPlot"
      ],
      "metadata": {
        "colab": {
          "base_uri": "https://localhost:8080/"
        },
        "id": "PLxFjL0gj3Cp",
        "outputId": "a9fffc5e-d11b-41af-a0ff-41e5b2fcf34d"
      },
      "execution_count": null,
      "outputs": [
        {
          "output_type": "execute_result",
          "data": {
            "text/plain": [
              "{5: [1], 6: [], 7: [6, 7, 8, 9], 8: [1, 2, 4, 6], 9: [9]}"
            ]
          },
          "metadata": {},
          "execution_count": 15
        }
      ]
    },
    {
      "cell_type": "markdown",
      "source": [
        "Here value 51 could be an outlier since it does not fits inside the range of the rest of the data. "
      ],
      "metadata": {
        "id": "0TD8eKS1m09R"
      }
    },
    {
      "cell_type": "markdown",
      "source": [
        "49. Twenty-five randomly selected students were asked the number of movies they watched the previous week. The results are as follows:\n",
        "![image.png](data:image/png;base64,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)\n",
        "<br>Construct a box plot of the data."
      ],
      "metadata": {
        "id": "rjJ-PUAjrYO-"
      }
    },
    {
      "cell_type": "code",
      "source": [
        "import numpy as np\n",
        "import matplotlib.pyplot as plt\n",
        "value=np.array([0,1,2,3,4])\n",
        "freq=np.array([5,9,6,4,1])\n",
        "data = np.repeat(value,freq)\n",
        "plt.boxplot(data)\n",
        "plt.show()"
      ],
      "metadata": {
        "colab": {
          "base_uri": "https://localhost:8080/",
          "height": 265
        },
        "id": "hLxr68A7nYyi",
        "outputId": "d34ecd45-e354-4907-fa5d-7e65788d5ca9"
      },
      "execution_count": null,
      "outputs": [
        {
          "output_type": "display_data",
          "data": {
            "text/plain": [
              "<Figure size 432x288 with 1 Axes>"
            ],
            "image/png": "[encoded data removed]"
          },
          "metadata": {
            "needs_background": "light"
          }
        }
      ]
    },
    {
      "cell_type": "markdown",
      "source": [
        "Use the following information to answer the next three exercises: We are interested in the number of years students in a particular elementary statistics class have lived in California. The information in the following table is from the entire section.\n",
        "![image.png](data:image/png;base64,iVBORw0KGgoAAAANSUhEUgAAA2QAAAETCAYAAABZUMWYAAAgAElEQVR4nO3de5yPdf7/8UfRZ5OhHaOMEhpNaRxW1iqylHUoan5kvqi0WDm0dFKs2kllVRNFimxai9aSvtOysyGRjZyanZDDpGgyVEaNmTJj6dP6zu+PoVTGaWfmMjzut9vczOd9XXO9Xz63z3ve1/M6zRkFBQUFSJIkSZJK3ZlBFyBJkiRJpysDmSRJkiQFxEAmSZIkSQExkEmSJElSQAxkkiRJkhQQA5kkSZIkBaT8kRZmZGSUVh2SJEmSdMqJiYk54vIjBjKAqlWrFlsxkiRJknS6yM7OPuo6XrIoSZIkSQExkEmSJElSQAxkkiRJkhQQA5kkSZIkBcRAJkmSJEkBMZBJkiRJUkAMZJIkSZIUEAOZJEmSJAXEQCZJkiRJATGQSZIkSVJADGSSJEmSFJBiDWQ5C0fQ7oZ42j3yBln7DzTueoPEA205/3UPucx/JJ52N0wh/b/e1jHYl0Hy4wO56YZ4uk/bRLg0+pROYt+O8R98TdoYdGXSsdjEpBviaXdDXyat/+43evqU4vwcH+ijWOa8o8ta9gL39EygXcIIFn9eCh1KJzHnKJVV5Utkq2njSZp3Oc/ceFGJbL605KyYzqQV27n+wWkMbBJJKOiCpJNEnU730f/nkd++rlK2h7pOOztJfnQKjab3p+nZQdfy39jE/Gfmkn5RbyY+35E6FYOuRzo5OEeprCmZQAakv5DElNix9D7vkMaNU2j3u9k0vXsaI9tGkrNwBN3HpZHwZAoJnxV+H9eoCVmb0sghhoTftCW8eDopm/YQ0ag3o4dfc2BD7zM18WbWrt1D6OJ2PPDQIK4+H8hdx8zxT/PXd3Ihqgm33n8nNzf4rp/CbUPPF4ZzfdTBosJ89GoSv5+ZRs6+EFXqteXO+/pz9RdT6D4mDYD5j/dk14GaYQ+Lk24maVlHRv6tP01DYVKfTyBxXjOGzXiARpmvMOapV0jdBVWu7MqwQV1pFAk562czafoclm3MJVy5LvG/vY9BLar9uLbH2vLRi8+SsmkPnB1J044DGHRrM6JNgzqJRNVqSKMrIg9pyWX+Iz0Zm1aXRlfuJH3/rbw07HLe+fNzvDhvE/mV6xLf+076tb2IEGE+enUEQ6asI//sGBrV2cPajTu/93sg4ckU+tUrPHNxz6tNuHfacK4/81jGd+E4rtN9JON61CW0L4PkMU8zY8V28qlIXIe7uPPyt7jj6ZXEP5LMoCYhwmkvcMMjc7l6yEwebuUe7Wlj31xGjK7LSw+1+l7zofPS9z+DXdnecyjJ59elaZXtpB6Yl/pesZ5pMwvnrOsHP8y9zQ9saNsiku6cxNqPw4XzV2Jn6pwNOesPN0dsYtINh2y73sO80bvuIbVmkDz6Uaa+k0v47EjiWg9gWP+6rPnDUGbuAzZP4Y5uX/LMa72JA9ifwcy+9zDl3P78aWxHarKdlHsHMv6rHkx8rhkfTjvMuNy3ncUzpzNj4Uq27Q5R5cpbeWxIZ+qc/ePaXopdQtLzc0nfDaGoJsT370+v5tU8aKmTxo/nqMOMsZsrMj/oOerzlYx/+o+8vrFwbDe9eSgtNz/AU0XsY7auHNhbqhJWIveQNerQkTi2M/OZv5Kef3w/uy2iAYP7d6TmvgyS/7yQUPv76H1liPy1f2VpxsG1tlPxivsY+dt2RH/8Bo+OmksWO0l5LJEp79Vh4IQXeeDK7Ux54AlSdny37S3fXETPIV25otJ3bfnLnuPuKWlEtB3EqCGdiP5oLo8Of4WPYm9lYv+GAMQ/NJNhrQ4O7Iq0aNMRmMvi1D2weyXz5wEd2tJiz1xGPDCdtZf0408v3keLj6cz9LG5ZAG5G+ex5YJbGffiSBIqbyIlaTrL9/ywthvZP+cJUjZdzcPTZvLyE7cSDUQ4y+kksytzHWvXHPzaRNa3V39lEK5+K8O7x/HRtHsZO28P1/3hRSZ2jSBl3L1MWhMmvGYKd09ZR7heV4b9vjOXk3sMPR7L+I6h3+8HEV8jzEcvv8Ky3D0sf24ok1bAL387nJG/vZqvd+VRsVlb4oGUf75LPntYtmgu0JHrmxnGTh/tiO8QIvzOc4xZuPP4LkffHabmt/PSFF7c/N2cNf/Ndd9dprg7zCXxwxnWvS7htVO4e9o6wjuKniMA+HwPZzUbwKjWhx7OP/A5fieC6+4eybBO1dgy7wkS/5bLr4YMJx6gQX8mzri1MIwBlIvh6s4xsHkOyzOAzStJ3gx1Ojchb/rhxyXhDN6em8vVQ17kT3c2JP+dKTz6j4zvyjhYW7MdTE2aS/qVD/DyjGmM61ENiDCM6aRS5Bz17RiLZm3Qc1R2BjOHP0HKR9XoMqRwbO/avZ9ftC5iH9MwdkorkUAWiu3EsDubwCezSZqyil3H8bPX3diZpm1b0RSgfgcS2jah/VUNgTDfHLwvjXb8T5cmNO3Qj34dgE3vkp6exvxNUKdnb66vVY2r4ztRh00sW7fz223H/7o3119Z95CzTXt4b+USwnSkX+92NGrVg8E9Y+CThaR+EiLy7MIVQxEVvxeKQg2bEX82LF6WxrY1K1hOiPhmDclKW0g6MfTr3Y6a1ZsR3zkGNq1kzedQp8NIRt7RjjrVGxLfuSGwhI1b+UFtV3B5zEXAGzz9+yeYtOQbmrZtSMRxvftSyftoztMMfSjxwNcrrMk7uKQj/W5vR9OYLN75Rxg69KbXFdWo06ED8YRJeXcTWzYuJEwM/e7sQesrWvH/2jQ8eoc7jmV896D1Fe1ofWXh669z05i/pLCGgR2a0LTDICY+1I7osxvS4sYQLHmL1Mw03l4GoRub0cg9ytNIRVr/ZjgJ54dJHfcCyZnH8aPfm5d+MGft//oH6zWkdY876RcL4YXrWH6EOQKAJv+PO7u0olGtQw4O7FnH2wc+x/0O2d62+Wlsr3ggCP3kLCIrf/8DXLNJW+LYyfzUTaS/u5As6nL9z3JYVsS4pHIz+j//ML2vqEbNNp2IB7I2bvkuYB6sLbYWtWoAC59l6Kg/8+Y3P+e6n3kwQyeXIueog5/j6luKHAulNkd9tIK/fgJ1et5J71YNad1jFBN7NySy0eH3MZ2iTm0ldMliiOg2/bk3dR1j30krmS5+aPfnfATwwkDavXBI+2e5UKOY+wo15PqEaqRM/yP3rNsD5/fg+oYh8tcWHk0cPyCe8Yesvv2LMB9teqHwskgiiate9LCqc9NYXmq0ktR3NpG6cAqJc5Yw6MVRxFcv5v+D9F9o+u0lvAflMv/QFfJyCo/6zxvBDfMOaf8ki92XnECHecU5vkM0at2V6H9MZ/wD68inGr1bO9mdds5uSK/7OpP6u9mkltI0tTe7qDmiBDqrfg3xLV4gKflREtkDLXrQumIOSXDYcZnz+R6SRxVeLh9Rty5VitpuuRhufvZFmq5MY+nGd1nw5xEkL+7PS091JLoE/hvSifjxHLWJSYeucDLPUUXsY+rUVmL3kFGuGtf378fy98aTuu9g21mEgLWrFpJa9aesTVl3ghtPY8G8BuSziknzgLo/J65BFa4/G978WQ9G3V54zfzbH4b4VasY8hcWtZ2K/KxZK0JL5jJpysWE6n7O1GkZUKMHTWtB4eg6vDpN2xI9fTpZuyGuRyvqlIP8y9oR4i0a9RzJoPYXwfblpIeuoXXVlST+Lo2c9sN57c4mZM0Zyu1/2nnY7X70v0N5gR4Mur4HLWp/Q/ek99iz9wTfJikoUZfTqAak0pFhiV1pWiGf9NU7qdm6CVXWfUyIuUx6bjoR3c9ny6G/B8oV/pO67A2a5u/h7wfHbo26xz++z23C9a1CpM6bwoTacDWrmPLupTz8YDuiY5tw/fnTmfL5Hqjbg2tjS/LN0MkqVO9WBndJ455Xt3/XWNRn8HhtWMTfl0RTa/t0Jm2G0I0NueqyLw8/R8RmfH9n8VAVG/LLViEWz5vCpNgQcTsLt1ezZxPqEObNIguoSNMWrWDZEvIJEd++GRFRO4scl1kzE0jZFEO/CaNIqJbG2IQRbDvcZvdnMPO+P0OP/vy/Hs259JuePPreHvYcbl3pZHUyzFExzbm1xitMmfYcUyr3oNb26fzvNz0Y/euGh93H1KmtZP8O2fntGHZPq++OPMe2ZXCLioTfmU7i6EVsOyfySD99BBXZseJpEp9/g6yL2/Hw0I5EV2zGwKcHcV3+XIb2vZmb7nyCBRu3H3Jvy+FFtLiTcb2bkL9wPENHzyGrTkceHtH16B/+mGYkxALUpfUV1Qq31bwfz9/dlvzXEvn1LTdz+6hFpG/fSTiyGb17N6HKkhHckNCTMW8WdT1ymLOq/4yKbz3N7T1vpvsz/6Jp7wfoEnOcb48UuItIeGIkvWuuY/yAntzUcyiT/pVBzh4IXdGbcb0bEtr4CkmPzWPLIb8HqjTvys0Xh9j2j/EkPr+ePRccWHDOiYzvilx95yj6NYe3nx9B4vPL+UnUwRtID9xjA8S1buKR/dNWiLhf30fvQ45gF/kZPF6V4f3kESS9vIlQo96M69mQKkXNEUfc0IHP8ZX5vD4ukaQ5O7mkwwOMvOnoE0NE01aF95id3ZYW9UIcaVzGtbuP+LrbmTQwnpsSX6HIp4R/cxbVGlfkzXED6X5LT55Y3YR+D3SiznG+PVKwToI56swYbh7xAPF1dvLq6MKxHVU5glA5DruPqVPbGQUFBQVFLczIyKBq1aqlWU/ZEN5J+polzBg9ndQm9/G3Ya28z0s6QT98ql3JC5O1aR3//N8kprzzc59cpVPT7u2sfWce48fNJdzjGV7q7pE96USU+hzlPuYpJzs7m5iYI/8OLrlLFk9lm+dxzx9mE4pqxbDfOFCksiWDlPtHkHx2JK0H/8YwplNSzjtTGDoujYi6PRjZyTAmlRnuY56WPEMmSZIkSSXgWM6Qlew9ZJIkSZKkIhnIJEmSJCkgBjJJkiRJCoiBTJIkSZICYiCTJEmSpIAYyCRJkiQpIAYySZIkSQqIgUySJEmSAmIgkyRJkqSAlD/aCpUrVy6NOiRJkiTplJKdnX3UdTxDJkmSJEkBMZBJkiRJUkAMZJIkSZIUEAOZJEmSJAXEQCZJkiRJATGQSZIkSVJADGSSJEmSFBADmSRJkiQFxEAmSZIkSQExkEmSJElSQIo3kO1fzbMth5H8cT55X333Fd5frL1ICtr+HNLmzCLti6ALkY7T3kxSxo3m8ccG0rHLQJ5dlV/Yvj+HtGmjeTxpGB279GTYnMxg65R04pyjVMaUL9at5exgK6uY0fMGnvq2sRa3PD2Bu34RUaxdSQrCZlJGTObdL/NYkJbDgHrdaHJe0DVJxyrM+qmjeLdeIo+2qc7WVwfSfejvuGDmBK59bxQv0IcJw2K5f9U42gzty1PRr3H/VaGgi5Z0zJyjVDYV7xmyHdv4rN+LrFr6FquWvsXfhrWkSb9EBhjGpFNELPHDk3i0V/2gC5FOwGaWz9nIgomL+BCo/Ys2XMpGFvzrfdLeXsX6GbNYkQOhxlcST5jkFasJB12ypOPgHKWyqVjPkIWrdyApplbhi6y5PLuoHnclxeLxRUlS8GK5btgd8FV9qgOEQlQGsveeQ/Ob76ZXwyhqRwDlQoSAUDjM1+AcJkkqUcUayELn1aI2ADmkjHmF2n1e5FJnMknSSSFE7Wu7MeDAq63L55F2bksevbYWlaJrMaBhYXt41dskV4jllg5XUSmwWiVJp4uSecriprlM3XoVV8eaxiRJJ6FPZ/Ps7CjuH51I++hD2vNX88fxH5IwfAQDGjqHSZJKXokEsvX//AufRUUT5VwmSTrZZM1l2MgttH9yBAnVd7A+68CdYns38uyQ6VR94Enu+gWs/zg/2DolSaeFEghkO/h4UxiqR3mphyTp5JKziqdGpXPt0D40j8jnwwWjSH4/DHszSR49i8r9hnBjDdi16hUeW74j6GolSaeB4n3sPQA5bF0DtCn+LUsK2g7emjyPdR+vAnbw+rSJ7Gt4Jf/TtTFRQZcmHVUmM+4aRvI2SO4590BbdQZMgrfG9eWpRWFYtJQ/HlhyzfA+QRUq6YQ4R6lsOqOgoKCgqIUZGRnExMQc90Z3bV7NZ+fUp8GFXrMoSZIk6fR0LHmqBM6QQVSsRyIkSZIk6WhK5imLkiRJkqSjMpBJkiRJUkAMZJIkSZIUEAOZJEmSJAXEQCZJkiRJATGQSZIkSVJADGSSJEmSFBADmSRJkiQFxEAmSZIkSQExkEmSJElSQAxkkiRJkhSQ8kdbIRwOl0YdkiRJknTa8QyZJEmSJAXEQCZJkiRJATGQSZIkSVJADGSSJEmSFBADmSRJkiQFxEAmSZIkSQExkEmSJElSQAxkkiRJkhQQA5kkSZIkBcRAJkmSJEkBKV8iW92fy+q5b0LzBBpX/eGyLfzl9t+ytdffeKhVRIl0L6mkhMlMmcCEDytSKz+VeTmtefLJW6hfIei6pGO0dxuvTX6V9D2ZrFgDbQePZGDTCNi7jdl/nMTms2uyO/V1cn41kmd6xBEKul5Jx+9I+6HSSaiYA9kWXnt8Kmu+zGfh6hz6xv14IGT+Yzwvboe2xduxpNKwJZmhz77Nz//wEgObNoX2Q7lnViMW9YoLujLpGITZ8JcxrIkbxkOto8mccw+3PZjIBS89Q/0liYxddgWjpvXjqubQ8r6hTGv8Gn39aEtlyNH3Q6WTUTFfsngJNzw4koduK2IG257C2L/nU714O5VUWn4aTf3LLuGs/d982xS1O5+8AEuSjt0WVv4jnYWTFrMZqPXz1sSSzsK0LKKqxRFb5yzC+w6uW4X8/PwAa5V0/I6yHyqdpErmksXD2Z/Fa5NSaXNPF5beN7bUupVUjKq25qEJrQEIp/6V2RXi6NuhEZUCLks6NpfQ7v5+8FUc0QChs6gE7NoXpkr8MCa3BgizakYKoQa9uKGRl9VLkkpeqQWynMWTWPSLfjxz4UaWllankkpAFqtTlvHuhnSiWiTQ8mLvslFZEaJWqwT6HniVuXIBq89twUOtahY27FzL7GVr2bCxCq26tSDWj7YkqRSUzlMWsxczZmEcA6+rWSrdSSpJ0TSOT6Dvg6O4PZxEt9uTyQy6JOl4fZbChL9X4d7Hh9G22oG2ao3o3KUXD43qxdeP/5rbXtkWaImSpNNDqQSyzUtSyCmfzstPJfGHcf9gI/DunDGMWuhkJ5Ul4Q+SSXxkKhu+AoigejVgewpLtwRcmHQ8ds4nMekj2j42nM7RWWzYmc/mV0aQODW98H7Ic6OpDmT+fRmbAy5VknTqK5VLFmO7PMPzXQ68yJ7P0JVjqdRpMEN97L1UpmSuTmHp+mgafBGm/rlhduwELmpBveigK5OOUW4qY5/eRKvBvbiqYj6bF41hdtXfUPvvy1hzYRxZ4Tgq7c1iB1CrxYF7zSRJKkHlHnnkkUeKWpibm0vlypWPY3NZLJ2azGsrV7Jx26fs+nIvu3aV4+K4aCoAeetTeGnOIhZt/oLM3N385Ly61L/AP2AklRVRcc2o8fkSXl/zKVvfnsXC/7Ri4D29aHF+uaBLk47BNmb99h5e+mALS1OSmfHKLFLSyvGrbgO47YYL+fzthazeto2lry5m/zX9GNKzGeefFXTNko7dkfdDpSDs3r2byMjII65zRkFBQUFRCzMyMqhRo0axFyZJkiRJp7pPPvmEmJiYI65TOg/1kCRJkiT9iIFMkiRJkgJiIJMkSZKkgBjIJEmSJCkgBjJJkiRJCoiBTJIkSZICYiCTJEmSpIAYyCRJkiQpIAYySZIkSQqIgUySJEmSAmIgkyRJkqSAlD/aCqFQqDTqkCRJkqTTjmfIJEmSJCkgBjJJkiRJCoiBTJIkSZICYiCTJEmSpIAYyCRJkiQpIAYySZIkSQqIgUySJEmSAmIgkyRJkqSAGMgkSZIkKSAGMkmSJEkKSMkEsv05pM2ZRdoXBxvyWT9nFinrdpD3VT6frZvLjEWZhEukc0kl7kdjXCoj9maSMm40jz82kI5dBvLsqvzvln26imcTB/Pw+IkMu2MwKZ8GV6ak/4JzlMqY8sW7uc2kjJjMu1/msSAthwH1utHkPIAwH6+YyONjJvJ4hSo0aNmN/nfUIlS8nUsqcUWNcaksCLN+6ijerZfIo22qs/XVgXQf+jsumDmBhNAiBv9mNg3HjeWu85cyrNMsZizNJP7mWkEXLemYOUepbCrmQBZL/PAk4tdNZEHa0h8sq86AyTPpFVu8PUoqTUca49LJbjPL52xkQcQibm1zG5f+og2XMo4F/9pBw68ms+K8DgyIDUG5NoyYdxVUiAi6YEnHxTlKZVMxB7Ij+Zp9n2wm7cs8Kl9Un0ujPT8mSSpNsVw37A74qj7VAUIhKgPZe7eybvkOCK8ieWp16jOPGVt+SdLIztQOuGJJ0qmv1B7q8ZNylcjZC5c1rs6mMe3oPmmj95BJkkpRiNrXdmNAp3pUArYun0fauS3pfW1lPtsEUJ8bb2tDfJ+7Sdg1jl9P3RhwvZKk00EpBbIqtH9iGg92iKVSuepcfc1VbJ3+F173ZktJUhA+nc2zs6O4f3Qi7aMhVAGoX4/aIYBKhH4K4QWr+TDgMiVJp77SCWQfz6J7y2voO2fHIY07yM8v8ickSSoZWXMZNnIL7Z8cQUL1HazPqk7dqw+zXlQE3kUmSSpppRPIqkRR++Lb6N+mOhDm482rCTXsRPOapdK7JEmFclbx1Kh0rh3ah+YR+Xy4YBTJ74f4efOWsGgjWwH27yJna4gG7RtzQdD1SpJOecX8UI8dvDV5Hus+XgXs4PVpE9nX8Er+p2sb7uo1jseHj+Stn+5gXbgzSYmdqV2ueHuXVNKKGuONiQq6NOmoMplx1zCSt0Fyz7kH2qozYFIElWLvYfynoxj9wDiaVPiQrdeO4NEbfeS9VLY4R6lsOqOgoKCgqIUZGRnExMSUZj2SJEmSdEo4ljxVak9ZlCRJkiR9n4FMkiRJkgJiIJMkSZKkgBjIJEmSJCkgBjJJkiRJCoiBTJIkSZICYiCTJEmSpIAYyCRJkiQpIAYySZIkSQqIgUySJEmSAmIgkyRJkqSAlD/aCuFwuDTqkCRJkqTTjmfIJEmSJCkgBjJJkiRJCoiBTJIkSZICYiCTJEmSpIAYyCRJkiQpIAYySZIkSQqIgUySJEmSAmIgkyRJkqSAGMgkSZIkKSAGMkmSJEkKSPkS2er+XFbPfROaJ9C46oG2ncsYO3EZodoRZL6XT9vBw2h7UYn0LqmkHW6MS2XM5pm30+fjXsx9sAWV9ueyeuZz/O3LOGr9XyqZ0f0Y3vUSQkEXKem45Lw3gz8t3El22ip21L2VkQ/FU6tc0FVJR1bMgWwLrz0+lTVf5rNwdQ594w7urGUx+7HXiR0+khuqAh/MoNvoFOo/G0/14i1AUokqaoxLZcz2FMZO3gatC1/mLXmOe968hMl/SiCWOCZ0+i3PXPQaQ5sZyaQyI3s+SZOh75P3EksqY7sm0mdCNPPuaurBFZ3UivmSxUu44cGRPHRb3A/ac8j+eC1r1uUWvvxJiIi8fHaFi7d3SSWtqDEulSH7tzH7mRTyqh1syGXVP5dBbE2iywHlqlOrAby2PJW8AMuUdHxy1ixnVfoMXk7NhQqNaNYWwimprHZ/Uye5UrqH7BKadYlm4ePd6Dg0iT+MW8s191xPfQ9XSJJK2Y7XJ7Gy7SC61fq2ha1rD7PithzyS7EuSf+dKk1v4d4evWgVUxEIEToLqPANYQOZTnKlFMhC1L+hF20viuSs9xezcH06H3z+del0LUnSQdmLmbCkKQPb1vpec3jvYdbdlW8gk8qSc+Po3CuBlheFYG8qS+aFiO3Snqsigi5MOrLSCWThdF78/etckTSLOTOfYWBjWPpkErM/K5XeJUkCclk48XUa9LvuRzf5hyocZvVQyPtOpLJofz6rp05ic4fhjLwtznGsk17JPGXxB8JrF/OXWtcxtxpAHN2eeAbuup0Nm/PpfIGHLSRJpeCDN5mdE6LKK2P4kHy2fgCclcyTY39FvUY/Xj1UL5oqpV6kpP9OmA2TE3kpajBPdrmE/A+2kRdXk0pBlyUdQakEstC5Vai+Mp3M/S2oXw4I55D97zjqxxrGJEml5LIEnh+bcOBFLq892I1REQn87t4WsHgNEyduIwuotD+TzNRo2v2hkTtxUpkSJnPOGF6u1Ivfta8Juam8PHobN0y5xbGsk1oxB7Islk59nfVbU4Es3pg+iX0NmtKlSwKjBk7iyduHEtuqJrs+/IYG9zxM5wuKt3dJJa2oMd7IMwkqO/LTmZ28gIXrAZKZ+GoEt3e6k2c+e44JzybT7Mx0cnoM4vamHjSUypK8ZRPoM34xYRazdPKBxlbDuD3QqqSjO6OgoKCgqIUZGRnUqFGjNOuRJEmSpFPCJ598QkxMzBHXKaWnLEqSJEmSfshAJkmSJEkBMZBJkiRJUkAMZJIkSZIUEAOZJEmSJAXEQCZJkiRJATGQSZIkSVJADGSSJEmSFBADmSRJkiQFxEAmSZIkSQExkEmSJElSQAxkkiRJkhSQ8kdbIRQKlUYdkiRJknTa8QyZJEmSJAXEQCZJkiRJATGQSZIkSVJADGSSJEmSFBADmSRJkiQFxEAmSZIkSQExkEmSJElSQAxkkiRJkhQQA5kkSZIkBcRAJkmSJEkBKZlAtj+HtDmzSPviu6bwplkM/s0wnho/kr49RrIgq0R6llRavlrKw+1vZurmoAuRTsyH03ty1Yil5EHhvDVtNI8nDaNjl54Mm5MZdHmSTsCuNX/h8aTRDO5yE90TZ7N1f9AVSUdXzIFsMykjhvHwkIcYNGYOG7480PzVUh67ew5V+yRy/6BEft85k4cfnc1nxdu5pFITZsXkkSzYG3Qd0gnaNpvRk74LXbsWjOIFOnH/sCRmD2nMijF9eWpVOMACJR23L+by2CRIuHsIY6YPpcm/xvHrcatwJOtkV8yBLJb44Ur2JXIAAAvCSURBVEk82qv+91rzVi9lwV644PwIAGrHNoaNi1jxafH2Lql0hFdN5I+rqwddhnRi9meS/PQc8qIPNuSQ9vYq1s+YxYocCDW+knjCJK9Y7Y6cVIbsWv02Kzb+hb+uyoEKjWneHsJz3iHNgayTXKncQxbem3+Y1o1s3e4Ikcqcvav54/QQQ+64KuhKpBPy2byJrGh/N7fUPthSheY3302vXi2pHQGUCxECQuEwXwdXpqTjFHXVbdzfsw/X1okAQoRCQIUwYXc3dZIrlUAWVaMWIXaw+8DlTXm7dhX+u9cRIpUtYdbPmE64x200qBR0LdIJ+GIRz/7zSu5qX/t7zZUadmbAzS2pHYLwv94muUIst3S4Cj/mUhlybj0S+nTjmpoh2LuKt/4R4tKuHWgeEXRh0pGVzlMW63Xi/qtDJC9dDft3sGD+IiDET8qVSu+Sikl441944YtO9L7K2U1lUQ4Lxs+j4R0dqV3U/JO/mj+O/5CE4SMY0DBUqtVJKib780mbPJEPbhxBUq96OJJ1sitfKr2Uq078yNdosnkDaatzaPirjrBqK5fWcadOKjtyWLFgFXy1g2dHLIVdm4FdLH5xJNx8D72ucDzrJLdpIcm7QkTNHMUH5PPx+0BoFo+NDjNgSBtq793Is0OmU/WBJ7klNo/1H+fT4GI/11LZEmb9pN8xNWooY7rGkrcpk7x6tTzbrZNa6QSy/KU83mU4m/pM46Wu1VkxZiG1OyRy7YWl0rukYlGFawa/yDUHX66byIJBS2ndN5FesUHWJR2jut14cXy3Ay9ySBl6E49HdOP3Q1pSaW8myaNnUbnfEG6sAbtWvcJj2zrw8sV+uKWyI8zWV0fx10p9eLBDLchZxYwnMomffpuBTCe1Yg5kO3hr8jzWfbwK2MHr0yayr+GV/E/X+jRvX4+PNy3iqQdWk3fJCMb0uoqo4u1cUin5bOlkkt/4bpxX79mH9rFeFKIyIn8jybPmseA9gFk890o5GmQ8ylOLwrBoKX88sNo1w/sEWKSk45W3dBy/HreIMIt4a9KBxmsT6R9oVdLRnVFQUFBQ1MKMjAxiYmJKsx5JkiRJOiUcS54qnYd6SJIkSZJ+xEAmSZIkSQExkEmSJElSQAxkkiRJkhQQA5kkSZIkBcRAJkmSJEkBMZBJkiRJUkAMZJIkSZIUEAOZJEmSJAXEQCZJkiRJATGQSZIkSVJAyh9thXA4XBp1SJIkSdJpxzNkkiRJkhQQA5kkSZIkBcRAJkmSJEkBMZBJkiRJUkAMZJIkSZIUEAOZJEmSJAXEQCZJkiRJATGQSZIkSVJADGSSJEmSFBADmSRJkiQFpHxxbzDnvRn8aeFOstNWsaPurYx8KJ5a5SC8dT4T/rKJqpdV5IO0MO3uG0TLasXdu6SSFSYzZQITPqxIrfxU5uW05sknb6F+haDrkiRJKpuK9wxZ9nySJkPngfcyasp9NH53PH0mpBLev4VZv59Afsu+3Na1H4NbZ5E4PJnMYu1cUonbkszQZ9+m6tW3MPChQXRIn8o9s9KDrkqSJKnMKtZAlrNmOavSZ/Byai5UaESzthBOSWX1xmVM21mF2hdGAFDlwprw0eus2lqcvUsqcT+Npv5ll3DW/m++bYranU9egCVJkiSVZcV6yWKVprdwb49GRMVUBEKEzgIqfMOubVsI/2jtbXz2eRhqh4qzBEklqWprHprQGoBw6l+ZXSGOvh0aUSngsiRJksqq4r2H7Nw4OveKK/x+bypL5oWI7dKen5efcdjV8/eGAQOZVLZksTplGe9uSCeqRQItL3YMS5IknaiSecri/nxWT53E5g7DGXlbHKFyh1spxE8O2y7p5BZN4/gE+j44itvDSXS73ftBJUmSTlQJBLIwGyYn8lLUYJ7s1wg+2MZZF15ymPNg0dSqEVH83UsqMeEPkkl8ZCobvgKIoHo1YHsKS7cEXJgkSVIZVcyBLEzmnDG8XKkXv2tfE3JTeXn0MrIua0HPall8sC0fgB3btkDcdVx1UfH2LqlkZa5OYen6dDZ+EQby2bETuKgF9aKDrkySJKlsOqOgoKCgqIUZGRnUqFHjmDeWt2wsnR+Z//0HeLQaxtyHWvOTrfOZ8Py/qNriEj54L4eruvbjhsu890QqU/ZnsXBCErPz46hHOqvDcXTv1Yu2PpxHkiTpRz755BNiYmKOuE6xBjJJkiRJUqFjCWQl81APSZIkSdJRGcgkSZIkKSAGMkmSJEkKiIFMkiRJkgJiIJMkSZKkgBjIJEmSJCkgBjJJkiRJCoiBTJIkSZICYiCTJEmSpIAYyCRJkiQpIAYySZIkSQpI+aOtsG/fvtKoQ5IkSZJOO54hkyRJkqSAGMgkSZIkKSAGMkmSJEkKiIFMkiRJkgJiIJMkSZKkgBjIJEmSJCkgBjJJkiRJCoiBTJIkSZICYiCTJEmSpIAYyCRJkiQpIAYySZIkSQpI+aALkCRJkv57m5n7wiK2/d8P26Np1qczjUI/bM8jc30meedEU7dO1aJ3inetZPora/m6bjx9rr3wmKvJSk3hrW37IS+bvAoX0+amNlwc+jeZb81l0eeR1KnwKZn7G9CxU2OqHvNWdSryDJkkSZLKvnAlLm3+S355xYWEACpdzJUtfskvr23GpT8KY0BeOiuXvc07274+8hmKrC/IA847/9jDGF+8zaL39lO3fWe6d/sFVb/azOvzN/CfrStY9MHXxF3bhms6NiVy5zv8c3Xe8fwvdQryDJkkSZLKvlA0sQ2i4cNM3gZCFzagcYML+ffmRaT8aTa53wBnRRLbKp42tT5k9vTV5AJsSmH2T2+h8VfzeeODXP7DOURW/A+5eXD5jX2I/fwLoBLnRR9HLXu+5uv/ZLF5Sx6NrqhB1YqQlZXJmshswlSl6nkA5xFZETZ8+gk0vrz43w+VGQYySZIknTJyc3KBA2e0vljJ3xZv5uuo+lx3dSTr573N5iVLqdWrNY3rvse8TT+hUaeOxO36J6+8n0uozjXcWGcnixa9D1xI1Qvy+GR5GM66kOio7/r493spzFz9xfc7vrAlfdrFFn5fuw197mhT+H34I7L3QKjmpVT4atuPC877klwgstjfCZUVBjJJkiSdMj7dmQecQ2RV+HRDOnn/F0njX/2SiyOh0mVr+d/12WTlhoje9284qxrR1SvxWdqn/OfMC2nR5nKiz4yk1vL32XBmJNFnZpOWB1SK/N59Xuf8LJ4+PzuWav7N+wveJfunjbixfSy5cxeVyP9ZZZuBTJIkSaeILHK/As6sSnQ12J0aBs6j8oHTT7l79gJVqXRuLtm5HAha2az9CqgYyXlnAv+XTe4eoHY0VXdlkf0NhM6vQaVD+lg5ay7p/z6034pc2r47v7zgB9UsSyG1/JV0v+lSyu37D5x7Dnz2g5Ir/dSzY6c5A5kkSZJODeEssvcA51YpPKN1XiR88invLs0kMnIDK7b+h/I16hIXymZhHhD1f2TvPJNK5wBfZPL+Zz/n8h2b2QlERkVD1vvkARd+74Ee0TTr1odmRykla9l05u6qT8fWteDDhczMiKFP3WqU35hN9i6IjfyC3D0Qeenx3JymU5GBTJIkSaeG7VlkA+WrRheedWp6DY2zFrDu/XnMpjznVGvMjR0vJ8S/iakZYtvWtSxNv4CeVzdiU8paNvzjr2SE4D+U56dRlfh02wk80ANg6yLmrs8jzEpmT19Z2Fb7UohtSbtP57LozUV8XTGL3dUa06aJ58dOd2cUFBQUFLUwIyODqlX9ywiSJEmSdLyys7OJiYk54jr+HTJJkiRJCoiBTJIkSZICYiCTJEmSpIAYyCRJkiQpIAYySZIkSQqIgUySJEmSAmIgkyRJkqSAGMgkSZIkKSAGMkmSJEkKiIFMkiRJkgJiIJMkSZKkgBjIJEmSJCkg5Y+2QnZ2dmnUIUmSJEmnnTMKCgoKgi5CkiRJkk5HXrIoSZIkSQExkEmSJElSQAxkkiRJkhQQA5kkSZIkBcRAJkmSJEkBMZBJkiRJUkD+P/1tA66cDzqjAAAAAElFTkSuQmCC)"
      ],
      "metadata": {
        "id": "-fjbIXQ0vWnK"
      }
    },
    {
      "cell_type": "markdown",
      "source": [
        "61. What is the IQR?"
      ],
      "metadata": {
        "id": "cxpvCfA6vnU6"
      }
    },
    {
      "cell_type": "code",
      "source": [
        "value=np.array([7,14,15,18,19,20,22,23,26,40,42])\n",
        "freq=np.array([1,3,1,1,4,3,1,1,1,2,2])\n",
        "data = np.repeat(value,freq)\n",
        "Q1 = np.percentile(data, 25, interpolation = 'midpoint')\n",
        "Q3 = np.percentile(data, 75, interpolation = 'midpoint')\n",
        "IQR = Q3 - Q1\n",
        "IQR"
      ],
      "metadata": {
        "colab": {
          "base_uri": "https://localhost:8080/"
        },
        "id": "lsc5OYKPpvJS",
        "outputId": "ada32473-b9db-4a1d-ef60-bb02b2472fde"
      },
      "execution_count": null,
      "outputs": [
        {
          "output_type": "execute_result",
          "data": {
            "text/plain": [
              "8.0"
            ]
          },
          "metadata": {},
          "execution_count": 27
        }
      ]
    },
    {
      "cell_type": "markdown",
      "source": [
        "62. What is the mode?"
      ],
      "metadata": {
        "id": "uWs_2-tzxopD"
      }
    },
    {
      "cell_type": "code",
      "source": [
        "import statistics\n",
        "statistics.mode(data)"
      ],
      "metadata": {
        "colab": {
          "base_uri": "https://localhost:8080/"
        },
        "id": "bQh_9jeJw4hk",
        "outputId": "e202def0-5fc8-4c9a-a795-ba02587b6d4e"
      },
      "execution_count": null,
      "outputs": [
        {
          "output_type": "execute_result",
          "data": {
            "text/plain": [
              "19"
            ]
          },
          "metadata": {},
          "execution_count": 34
        }
      ]
    },
    {
      "cell_type": "markdown",
      "source": [
        "63.  Is this a sample or the entire population?\n",
        "<br>This is a sample"
      ],
      "metadata": {
        "id": "HdRZ3qxO3IDN"
      }
    }
  ]
}